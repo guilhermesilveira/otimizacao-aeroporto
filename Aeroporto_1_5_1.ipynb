{
  "nbformat": 4,
  "nbformat_minor": 0,
  "metadata": {
    "colab": {
      "provenance": []
    },
    "kernelspec": {
      "name": "python3",
      "display_name": "Python 3"
    },
    "language_info": {
      "name": "python"
    }
  },
  "cells": [
    {
      "cell_type": "code",
      "source": [
        "!pip install ortools==9.7.2996 pandas==2.1.0"
      ],
      "metadata": {
        "colab": {
          "base_uri": "https://localhost:8080/"
        },
        "id": "7j4OtLBMmSfY",
        "outputId": "85a4c31a-9d0c-4d0b-def1-0f52575bee90"
      },
      "execution_count": 1,
      "outputs": [
        {
          "output_type": "stream",
          "name": "stdout",
          "text": [
            "Requirement already satisfied: ortools==9.7.2996 in /usr/local/lib/python3.10/dist-packages (9.7.2996)\n",
            "Requirement already satisfied: pandas==2.1.0 in /usr/local/lib/python3.10/dist-packages (2.1.0)\n",
            "Requirement already satisfied: absl-py>=0.13 in /usr/local/lib/python3.10/dist-packages (from ortools==9.7.2996) (1.4.0)\n",
            "Requirement already satisfied: numpy>=1.13.3 in /usr/local/lib/python3.10/dist-packages (from ortools==9.7.2996) (1.23.5)\n",
            "Requirement already satisfied: protobuf>=4.23.3 in /usr/local/lib/python3.10/dist-packages (from ortools==9.7.2996) (4.25.0)\n",
            "Requirement already satisfied: python-dateutil>=2.8.2 in /usr/local/lib/python3.10/dist-packages (from pandas==2.1.0) (2.8.2)\n",
            "Requirement already satisfied: pytz>=2020.1 in /usr/local/lib/python3.10/dist-packages (from pandas==2.1.0) (2023.3.post1)\n",
            "Requirement already satisfied: tzdata>=2022.1 in /usr/local/lib/python3.10/dist-packages (from pandas==2.1.0) (2023.3)\n",
            "Requirement already satisfied: six>=1.5 in /usr/local/lib/python3.10/dist-packages (from python-dateutil>=2.8.2->pandas==2.1.0) (1.16.0)\n"
          ]
        }
      ]
    },
    {
      "cell_type": "code",
      "execution_count": 120,
      "metadata": {
        "id": "4h9pRo3glwYk"
      },
      "outputs": [],
      "source": [
        "from ortools.sat.python import cp_model"
      ]
    },
    {
      "cell_type": "code",
      "source": [
        "def resolve(solucionador, modelo, estacionamentos, avioes):\n",
        "  status = solucionador.Solve(modelo)\n",
        "  print(solucionador.StatusName(status))\n",
        "  if status == cp_model.INFEASIBLE:\n",
        "    print(\"Sem solucao\")\n",
        "    return\n",
        "  for estacionamento in estacionamentos:\n",
        "    variavel = estacionamento.variavel\n",
        "    valor = solucionador.Value(variavel)\n",
        "    if valor == 0:\n",
        "      print(f\"{variavel} sem aviao\")\n",
        "    else:\n",
        "      aviao = avioes[valor - 1]\n",
        "      print(f\"{variavel} tem aviao {valor} grande={aviao.grande}\")\n"
      ],
      "metadata": {
        "id": "CKCYwa_Dw3iB"
      },
      "execution_count": 121,
      "outputs": []
    },
    {
      "cell_type": "code",
      "source": [
        "def avioes_distintos(estacionamentos, modelo):\n",
        "  variaveis = [estacionamento.variavel for estacionamento in estacionamentos]\n",
        "  modelo.AddAllDifferent(variaveis)"
      ],
      "metadata": {
        "id": "OY57DyhszDKf"
      },
      "execution_count": 122,
      "outputs": []
    },
    {
      "cell_type": "code",
      "source": [
        "def todo_aviao_tem_que_estacionar(total_de_avioes, estacionamentos, modelo):\n",
        "  variaveis = {}\n",
        "  for i in range(1, total_de_avioes + 1):\n",
        "    for j, estacionamento in enumerate(estacionamentos):\n",
        "      aviao_i_em_j = modelo.NewBoolVar(f'aviao_{i}_em{j}')\n",
        "      modelo.Add(estacionamento.variavel == i).OnlyEnforceIf(aviao_i_em_j)\n",
        "      modelo.Add(estacionamento.variavel != i).OnlyEnforceIf(aviao_i_em_j.Not())\n",
        "      variaveis[(i, j)] = aviao_i_em_j\n",
        "\n",
        "  for i in range(1, total_de_avioes + 1):\n",
        "    modelo.AddExactlyOne([variaveis[(i,j)] for j in range(len(estacionamentos))])\n",
        ""
      ],
      "metadata": {
        "id": "TGlRLwX7zug8"
      },
      "execution_count": 123,
      "outputs": []
    },
    {
      "cell_type": "code",
      "source": [
        "class Estacionamento:\n",
        "  def __init__(self, k, total_de_avioes, grande, modelo):\n",
        "    self.grande = grande\n",
        "    self.variavel = modelo.NewIntVar(0, total_de_avioes, f'estacionamento_{k}')\n",
        "    self.k = k\n",
        "    self.vizinhos = []\n"
      ],
      "metadata": {
        "id": "qGAibZ_G9Z4w"
      },
      "execution_count": 124,
      "outputs": []
    },
    {
      "cell_type": "code",
      "source": [
        "class Aviao:\n",
        "  def __init__(self, k, grande):\n",
        "    self.k = k\n",
        "    self.grande = grande"
      ],
      "metadata": {
        "id": "70GM0fyB-xbu"
      },
      "execution_count": 125,
      "outputs": []
    },
    {
      "cell_type": "code",
      "source": [
        "def remover_do_estacionamento(modelo, variavel_estacionamento, avioes_grandes):\n",
        "  for aviao in avioes_grandes:\n",
        "    modelo.Add(variavel_estacionamento != aviao.k)"
      ],
      "metadata": {
        "id": "S6ijstjKAVdB"
      },
      "execution_count": 126,
      "outputs": []
    },
    {
      "cell_type": "code",
      "source": [
        "def limita_aviao_grande_para_estacionamento_grande(modelo, estacionamentos, avioes):\n",
        "  avioes_grandes = [aviao for aviao in avioes if aviao.grande]\n",
        "  for estacionamento in estacionamentos:\n",
        "    if not estacionamento.grande:\n",
        "      # nao aceita!!\n",
        "      # REMOVER AVIOES GRANDES!\n",
        "      remover_do_estacionamento(modelo, estacionamento.variavel, avioes_grandes)"
      ],
      "metadata": {
        "id": "yqig-Dd0-1p-"
      },
      "execution_count": 127,
      "outputs": []
    },
    {
      "cell_type": "code",
      "source": [
        "avioes = [Aviao(1, True),\n",
        "          Aviao(2, False),\n",
        "          Aviao(3, True)]\n",
        "modelo = cp_model.CpModel()\n",
        "total_de_avioes = len(avioes)\n",
        "\n",
        "estacionamentos = [Estacionamento(1, total_de_avioes, False, modelo),\n",
        "                   Estacionamento(2, total_de_avioes, False, modelo),\n",
        "                   Estacionamento(3, total_de_avioes, True, modelo),\n",
        "                   Estacionamento(4, total_de_avioes, True, modelo)]\n",
        "estacionamentos[2].vizinhos = [estacionamentos[3]]\n",
        "\n",
        "avioes_distintos(estacionamentos, modelo)\n",
        "todo_aviao_tem_que_estacionar(total_de_avioes, estacionamentos, modelo)\n",
        "limita_aviao_grande_para_estacionamento_grande(modelo, estacionamentos, avioes)\n",
        "\n",
        "solucionador = cp_model.CpSolver()\n",
        "resolve(solucionador, modelo, estacionamentos, avioes)"
      ],
      "metadata": {
        "colab": {
          "base_uri": "https://localhost:8080/"
        },
        "id": "2_aGd__Z_Ftn",
        "outputId": "7b4a3720-0b86-4213-8917-29592410917f"
      },
      "execution_count": 130,
      "outputs": [
        {
          "output_type": "stream",
          "name": "stdout",
          "text": [
            "OPTIMAL\n",
            "estacionamento_1 tem aviao 2 grande=False\n",
            "estacionamento_2 sem aviao\n",
            "estacionamento_3 tem aviao 3 grande=True\n",
            "estacionamento_4 tem aviao 1 grande=True\n"
          ]
        }
      ]
    },
    {
      "cell_type": "code",
      "source": [
        "def limita_vizinhos(modelo, estacionamentos, avioes):\n",
        "  pass"
      ],
      "metadata": {
        "id": "CHDaxcEICuxl"
      },
      "execution_count": null,
      "outputs": []
    }
  ]
}