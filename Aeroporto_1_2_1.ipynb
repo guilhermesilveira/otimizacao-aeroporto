{
  "nbformat": 4,
  "nbformat_minor": 0,
  "metadata": {
    "colab": {
      "provenance": []
    },
    "kernelspec": {
      "name": "python3",
      "display_name": "Python 3"
    },
    "language_info": {
      "name": "python"
    }
  },
  "cells": [
    {
      "cell_type": "code",
      "source": [
        "!pip install ortools==9.7.2996 pandas==2.1.0"
      ],
      "metadata": {
        "colab": {
          "base_uri": "https://localhost:8080/"
        },
        "id": "7j4OtLBMmSfY",
        "outputId": "85a4c31a-9d0c-4d0b-def1-0f52575bee90"
      },
      "execution_count": 1,
      "outputs": [
        {
          "output_type": "stream",
          "name": "stdout",
          "text": [
            "Requirement already satisfied: ortools==9.7.2996 in /usr/local/lib/python3.10/dist-packages (9.7.2996)\n",
            "Requirement already satisfied: pandas==2.1.0 in /usr/local/lib/python3.10/dist-packages (2.1.0)\n",
            "Requirement already satisfied: absl-py>=0.13 in /usr/local/lib/python3.10/dist-packages (from ortools==9.7.2996) (1.4.0)\n",
            "Requirement already satisfied: numpy>=1.13.3 in /usr/local/lib/python3.10/dist-packages (from ortools==9.7.2996) (1.23.5)\n",
            "Requirement already satisfied: protobuf>=4.23.3 in /usr/local/lib/python3.10/dist-packages (from ortools==9.7.2996) (4.25.0)\n",
            "Requirement already satisfied: python-dateutil>=2.8.2 in /usr/local/lib/python3.10/dist-packages (from pandas==2.1.0) (2.8.2)\n",
            "Requirement already satisfied: pytz>=2020.1 in /usr/local/lib/python3.10/dist-packages (from pandas==2.1.0) (2023.3.post1)\n",
            "Requirement already satisfied: tzdata>=2022.1 in /usr/local/lib/python3.10/dist-packages (from pandas==2.1.0) (2023.3)\n",
            "Requirement already satisfied: six>=1.5 in /usr/local/lib/python3.10/dist-packages (from python-dateutil>=2.8.2->pandas==2.1.0) (1.16.0)\n"
          ]
        }
      ]
    },
    {
      "cell_type": "code",
      "execution_count": 2,
      "metadata": {
        "id": "4h9pRo3glwYk"
      },
      "outputs": [],
      "source": [
        "from ortools.sat.python import cp_model"
      ]
    },
    {
      "cell_type": "code",
      "source": [
        "modelo = cp_model.CpModel()\n",
        "\n",
        "estacionamento1 = modelo.NewIntVar(1, 5, 'estacionamento1')\n",
        "estacionamento2 = modelo.NewIntVar(1, 5, 'estacionamento2')\n",
        "\n",
        "solucionador = cp_model.CpSolver()\n",
        "status = solucionador.Solve(modelo)\n",
        "print(solucionador.StatusName(status))\n",
        "print(solucionador.Value(estacionamento1))\n",
        "print(solucionador.Value(estacionamento2))\n"
      ],
      "metadata": {
        "colab": {
          "base_uri": "https://localhost:8080/"
        },
        "id": "Q9Br7PlumtDz",
        "outputId": "27fed35a-e5a1-4084-8c82-bd8981e82254"
      },
      "execution_count": 32,
      "outputs": [
        {
          "output_type": "stream",
          "name": "stdout",
          "text": [
            "OPTIMAL\n",
            "1\n",
            "1\n"
          ]
        }
      ]
    },
    {
      "cell_type": "code",
      "source": [
        "modelo = cp_model.CpModel()\n",
        "\n",
        "estacionamento1 = modelo.NewIntVar(1, 5, 'estacionamento1')\n",
        "estacionamento2 = modelo.NewIntVar(1, 5, 'estacionamento2')\n",
        "\n",
        "modelo.Add(estacionamento1 != estacionamento2)\n",
        "\n",
        "solucionador = cp_model.CpSolver()\n",
        "status = solucionador.Solve(modelo)\n",
        "print(solucionador.StatusName(status))\n",
        "print(solucionador.Value(estacionamento1))\n",
        "print(solucionador.Value(estacionamento2))\n"
      ],
      "metadata": {
        "colab": {
          "base_uri": "https://localhost:8080/"
        },
        "id": "cZ8hoxN2tURP",
        "outputId": "1000d288-4d43-4c3d-afd2-8a023e4f358a"
      },
      "execution_count": 33,
      "outputs": [
        {
          "output_type": "stream",
          "name": "stdout",
          "text": [
            "OPTIMAL\n",
            "2\n",
            "1\n"
          ]
        }
      ]
    },
    {
      "cell_type": "code",
      "source": [
        "def criar_estacionamentos(total_de_estacionamentos, total_de_avioes, modelo):\n",
        "  return [modelo.NewIntVar(1, total_de_avioes, f'estacionamento_{i}') for i in range(total_de_estacionamentos)]\n"
      ],
      "metadata": {
        "id": "8ypTlcMfvuPu"
      },
      "execution_count": 39,
      "outputs": []
    },
    {
      "cell_type": "code",
      "source": [
        "def resolve(solucionador, modelo, estacionamentos):\n",
        "  status = solucionador.Solve(modelo)\n",
        "  print(solucionador.StatusName(status))\n",
        "  for estacionamento in estacionamentos:\n",
        "    valor = solucionador.Value(estacionamento)\n",
        "    print(estacionamento, \"=\", valor)\n"
      ],
      "metadata": {
        "id": "CKCYwa_Dw3iB"
      },
      "execution_count": 40,
      "outputs": []
    },
    {
      "cell_type": "code",
      "source": [
        "modelo = cp_model.CpModel()\n",
        "\n",
        "estacionamentos = criar_estacionamentos(3, 3, modelo)\n",
        "solucionador = cp_model.CpSolver()\n",
        "resolve(solucionador, modelo, estacionamentos)"
      ],
      "metadata": {
        "colab": {
          "base_uri": "https://localhost:8080/"
        },
        "id": "HywTjHeYwoW2",
        "outputId": "5022d59f-ee16-47c8-b913-072c78c96e32"
      },
      "execution_count": 41,
      "outputs": [
        {
          "output_type": "stream",
          "name": "stdout",
          "text": [
            "OPTIMAL\n",
            "estacionamento_0 = 1\n",
            "estacionamento_1 = 1\n",
            "estacionamento_2 = 1\n"
          ]
        }
      ]
    },
    {
      "cell_type": "code",
      "source": [],
      "metadata": {
        "id": "-DG2HFqpwqHe"
      },
      "execution_count": null,
      "outputs": []
    }
  ]
}