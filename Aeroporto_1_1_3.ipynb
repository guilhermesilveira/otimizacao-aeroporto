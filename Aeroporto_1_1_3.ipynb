{
  "nbformat": 4,
  "nbformat_minor": 0,
  "metadata": {
    "colab": {
      "provenance": []
    },
    "kernelspec": {
      "name": "python3",
      "display_name": "Python 3"
    },
    "language_info": {
      "name": "python"
    }
  },
  "cells": [
    {
      "cell_type": "code",
      "source": [
        "!pip install ortools==9.7.2996 pandas==2.1.0"
      ],
      "metadata": {
        "colab": {
          "base_uri": "https://localhost:8080/"
        },
        "id": "7j4OtLBMmSfY",
        "outputId": "85a4c31a-9d0c-4d0b-def1-0f52575bee90"
      },
      "execution_count": 1,
      "outputs": [
        {
          "output_type": "stream",
          "name": "stdout",
          "text": [
            "Requirement already satisfied: ortools==9.7.2996 in /usr/local/lib/python3.10/dist-packages (9.7.2996)\n",
            "Requirement already satisfied: pandas==2.1.0 in /usr/local/lib/python3.10/dist-packages (2.1.0)\n",
            "Requirement already satisfied: absl-py>=0.13 in /usr/local/lib/python3.10/dist-packages (from ortools==9.7.2996) (1.4.0)\n",
            "Requirement already satisfied: numpy>=1.13.3 in /usr/local/lib/python3.10/dist-packages (from ortools==9.7.2996) (1.23.5)\n",
            "Requirement already satisfied: protobuf>=4.23.3 in /usr/local/lib/python3.10/dist-packages (from ortools==9.7.2996) (4.25.0)\n",
            "Requirement already satisfied: python-dateutil>=2.8.2 in /usr/local/lib/python3.10/dist-packages (from pandas==2.1.0) (2.8.2)\n",
            "Requirement already satisfied: pytz>=2020.1 in /usr/local/lib/python3.10/dist-packages (from pandas==2.1.0) (2023.3.post1)\n",
            "Requirement already satisfied: tzdata>=2022.1 in /usr/local/lib/python3.10/dist-packages (from pandas==2.1.0) (2023.3)\n",
            "Requirement already satisfied: six>=1.5 in /usr/local/lib/python3.10/dist-packages (from python-dateutil>=2.8.2->pandas==2.1.0) (1.16.0)\n"
          ]
        }
      ]
    },
    {
      "cell_type": "code",
      "execution_count": 2,
      "metadata": {
        "id": "4h9pRo3glwYk"
      },
      "outputs": [],
      "source": [
        "from ortools.sat.python import cp_model"
      ]
    },
    {
      "cell_type": "code",
      "source": [
        "modelo = cp_model.CpModel()\n",
        "\n",
        "estacionamento1 = modelo.NewIntVar(1, 5, 'estacionamento1')\n",
        "estacionamento2 = modelo.NewIntVar(1, 5, 'estacionamento2')\n",
        "\n",
        "modelo.Add(estacionamento1 != 1)\n",
        "modelo.Add(estacionamento1 > 4)\n",
        "\n",
        "bonus = modelo.NewIntVar(0, 1, \"bonus\")\n",
        "modelo.Add(estacionamento2 > 10).OnlyEnforceIf(bonus)\n",
        "modelo.Add(estacionamento2 <= 10).OnlyEnforceIf(bonus.Not())\n",
        "\n",
        "modelo.Maximize(bonus)\n",
        "\n",
        "solucionador = cp_model.CpSolver()\n",
        "status = solucionador.Solve(modelo)\n",
        "print(solucionador.StatusName(status))\n",
        "print( solucionador.Value(estacionamento1))\n",
        "print( solucionador.Value(estacionamento2))\n",
        "print(solucionador.Value(bonus))"
      ],
      "metadata": {
        "colab": {
          "base_uri": "https://localhost:8080/"
        },
        "id": "Q9Br7PlumtDz",
        "outputId": "05e7f82e-a053-432c-9637-884edc0843bb"
      },
      "execution_count": 28,
      "outputs": [
        {
          "output_type": "stream",
          "name": "stdout",
          "text": [
            "OPTIMAL\n",
            "5\n",
            "1\n",
            "0\n"
          ]
        }
      ]
    },
    {
      "cell_type": "code",
      "source": [
        "modelo = cp_model.CpModel()\n",
        "\n",
        "estacionamento1 = modelo.NewIntVar(1, 5, 'estacionamento1')\n",
        "estacionamento2 = modelo.NewIntVar(1, 50, 'estacionamento2')\n",
        "\n",
        "modelo.Add(estacionamento1 != 1)\n",
        "modelo.Add(estacionamento1 > 4)\n",
        "\n",
        "bonus = modelo.NewIntVar(0, 1, \"bonus\")\n",
        "modelo.Add(estacionamento2 > 10).OnlyEnforceIf(bonus)\n",
        "modelo.Add(estacionamento2 <= 10).OnlyEnforceIf(bonus.Not())\n",
        "\n",
        "modelo.Maximize(bonus)\n",
        "\n",
        "solucionador = cp_model.CpSolver()\n",
        "status = solucionador.Solve(modelo)\n",
        "print(solucionador.StatusName(status))\n",
        "print( solucionador.Value(estacionamento1))\n",
        "print( solucionador.Value(estacionamento2))\n",
        "print(solucionador.Value(bonus))"
      ],
      "metadata": {
        "colab": {
          "base_uri": "https://localhost:8080/"
        },
        "id": "YHdr251DnIJ7",
        "outputId": "230ab7e2-6dd6-402f-e531-301fe8732089"
      },
      "execution_count": 27,
      "outputs": [
        {
          "output_type": "stream",
          "name": "stdout",
          "text": [
            "OPTIMAL\n",
            "5\n",
            "11\n",
            "1\n"
          ]
        }
      ]
    },
    {
      "cell_type": "code",
      "source": [],
      "metadata": {
        "id": "cZ8hoxN2tURP"
      },
      "execution_count": null,
      "outputs": []
    }
  ]
}